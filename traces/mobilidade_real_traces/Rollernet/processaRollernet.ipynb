{
 "cells": [
  {
   "cell_type": "code",
   "execution_count": 12,
   "metadata": {},
   "outputs": [
    {
     "name": "stdout",
     "output_type": "stream",
     "text": [
      "/home/diogosoaresm/Área de Trabalho/git/the-one/traces/mobilidade_real_traces/Rollernet\n"
     ]
    }
   ],
   "source": [
    "cd ../traces/mobilidade_real_traces/Rollernet/"
   ]
  },
  {
   "cell_type": "code",
   "execution_count": 113,
   "metadata": {},
   "outputs": [
    {
     "name": "stdout",
     "output_type": "stream",
     "text": [
      "1156083900 2006-08-20 10:25:00 2006-08-20 13:14:00\n"
     ]
    }
   ],
   "source": [
    "import pandas\n",
    "from datetime import datetime\n",
    "\n",
    "contatos = pandas.read_csv(\"contacts.dat\", sep=\"\\t\", header=None)\n",
    "contatos.columns = ['from','to','timestampstart',\n",
    "                     'timestampend','trash1','trash2']\n",
    "\n",
    "dataMin = datetime.fromtimestamp(\n",
    "        min(contatos.min(axis=0)['timestampstart'], contatos.min(axis=0)['timestampend'])\n",
    "    ) #  2006-08-20 10:41:31\n",
    "dataMax = datetime.fromtimestamp(\n",
    "        max(contatos.max(axis=0)['timestampstart'], contatos.max(axis=0)['timestampend'])\n",
    "    ) #  2006-08-20 10:41:31\n",
    "ans = []\n",
    "first = min(contatos.min(axis=0)['timestampstart'], contatos.min(axis=0)['timestampend'])\n",
    "\n",
    "print first, dataMin, dataMax"
   ]
  },
  {
   "cell_type": "code",
   "execution_count": 114,
   "metadata": {},
   "outputs": [],
   "source": [
    "#  drop if to > 62\n",
    "contatos = contatos[contatos.to <= 62]\n",
    "\n",
    "#  drop coluna lixo\n",
    "contatos.drop('trash1',axis=1,inplace=True)\n",
    "contatos.drop('trash2',axis=1,inplace=True)\n",
    "\n",
    "#  itera procurando os froms/tos\n",
    "iterador = 0\n",
    "for index, row in contatos.iterrows():\n",
    "    newLine = []\n",
    "    fromNode = row['from'] - 1\n",
    "    toNode = row['to'] - 1\n",
    "    tempoInicio = row['timestampstart'] - first\n",
    "    tempoFim = row['timestampend'] - first\n",
    "    \n",
    "    newLine.append(tempoInicio)\n",
    "    newLine.append('CONN')\n",
    "    newLine.append(fromNode)\n",
    "    newLine.append(toNode)\n",
    "    newLine.append('UP')\n",
    "    ans.append(newLine)\n",
    "    \n",
    "    newLine = []\n",
    "    newLine.append(tempoFim)\n",
    "    newLine.append('CONN')\n",
    "    newLine.append(fromNode)\n",
    "    newLine.append(toNode)\n",
    "    newLine.append('DOWN')\n",
    "    ans.append(newLine)"
   ]
  },
  {
   "cell_type": "code",
   "execution_count": 126,
   "metadata": {},
   "outputs": [],
   "source": [
    "trace = pandas.DataFrame(data=ans,columns=['time','conn','from','to','type'])\n",
    "\n",
    "trace.sort_values(by='time', inplace=True)"
   ]
  },
  {
   "cell_type": "code",
   "execution_count": 127,
   "metadata": {},
   "outputs": [],
   "source": [
    "trace.to_csv('rollernet_trace.csv',sep=' ',header=False, index=False)"
   ]
  },
  {
   "cell_type": "code",
   "execution_count": null,
   "metadata": {},
   "outputs": [],
   "source": []
  }
 ],
 "metadata": {
  "kernelspec": {
   "display_name": "Python 2",
   "language": "python",
   "name": "python2"
  },
  "language_info": {
   "codemirror_mode": {
    "name": "ipython",
    "version": 2
   },
   "file_extension": ".py",
   "mimetype": "text/x-python",
   "name": "python",
   "nbconvert_exporter": "python",
   "pygments_lexer": "ipython2",
   "version": "2.7.16"
  }
 },
 "nbformat": 4,
 "nbformat_minor": 2
}
